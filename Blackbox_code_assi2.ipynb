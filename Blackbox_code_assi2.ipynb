{
 "cells": [
  {
   "cell_type": "markdown",
   "source": [
    "# Cat vs Dog Interpretation #\n",
    "This project is to identify cat and dogs image accurately.\n"
   ],
   "metadata": {
    "collapsed": false
   }
  },
  {
   "cell_type": "code",
   "execution_count": null,
   "metadata": {
    "id": "yKyTsHSAxPwY"
   },
   "outputs": [],
   "source": [
    "import keras\n",
    "# run this code when you are working on the  CATS and DOGS only\n",
    "import tensorflow as tf\n",
    "import tensorflow_datasets as tfds\n",
    "\n",
    "# Load the cats vs. dogs dataset\n",
    "dataset_name = \"cats_vs_dogs\"\n",
    "dataset, info = tfds.load(name=dataset_name, split=tfds.Split.TRAIN, with_info=True)"
   ]
  },
  {
   "cell_type": "markdown",
   "metadata": {
    "id": "INjQdj77DTc_"
   },
   "source": [
    "# Visualizing the dataset\n",
    "\n",
    "Use this code as is no change is required- This code snippet is  used for visualizing a subset of images from a dataset  \"Cats vs. Dog, before applying any processing.\n",
    "\n",
    "The code is a Python script that demonstrates how to create an iterator to retrieve a batch of data from a dataset and display a grid of images along with their corresponding labels (in this case, \"Cat\" or \"Dog\")."
   ]
  },
  {
   "cell_type": "markdown",
   "source": [
    "This is the definition of the preprocess_image function. Please add your code below the comment and make sure to encapsulate your code within the function definition, starting with 'DEF' and ending with 'RETURN.' This step is crucial for the code to function correctly and yield results"
   ],
   "metadata": {
    "id": "jwREhO5afRHH"
   }
  },
  {
   "cell_type": "markdown",
   "source": [
    "**Don't change the following code**"
   ],
   "metadata": {
    "id": "twy-uE-4l9Lx"
   }
  },
  {
   "cell_type": "code",
   "execution_count": null,
   "metadata": {
    "id": "AjBY_MGtDBdi"
   },
   "outputs": [],
   "source": [
    "import matplotlib.pyplot as plt\n",
    "\n",
    "for i, data in enumerate(dataset.take(9)):\n",
    "        # ax = axes[i, j]\n",
    "        plt.subplot(3,3,i+1)\n",
    "        image, label = data['image'],data['label']\n",
    "        plt.imshow(image)\n",
    "        plt.title('CAT' if label == 0 else 'DOG')\n",
    "        plt.axis('off')\n",
    "\n",
    "plt.tight_layout()\n",
    "plt.show()\n",
    "\n",
    "\n"
   ]
  },
  {
   "cell_type": "markdown",
   "source": [
    "# Preprocessing function"
   ],
   "metadata": {
    "id": "26D0cbQJpP0M"
   }
  },
  {
   "cell_type": "markdown",
   "source": [
    "**add your code in the function below**"
   ],
   "metadata": {
    "id": "JLTQCGRPmNoC"
   }
  },
  {
   "cell_type": "code",
   "source": [
    "import tensorflow as tf\n",
    "import numpy as np\n",
    "\n",
    "\n",
    "# Define a function to preprocess images (e.g., resize and normalize)\n",
    "def preprocess_image(element):\n",
    "    image = element[\"image\"]\n",
    "    label = element[\"label\"]\n",
    "# Add your code here (below) - # Add your code here- # Add your code here\n",
    "    \n",
    "    image = tf.image.resize(image,(224,224), antialias=False)\n",
    "    image =  tf.cast(image, tf.float32) / 255.0\n",
    "\n",
    "    # Data Augmentation\n",
    "    \n",
    "    seed = (1, 2)\n",
    "    \n",
    "    image = tf.image.flip_left_right(image)\n",
    "    image = tf.image.random_saturation(image, 0.8, 1)\n",
    "    image = tf.image.adjust_contrast(image, 1.5)\n",
    "    image = tf.image.adjust_brightness(image, delta=0.05)\n",
    "    image = tf.image.stateless_random_hue(image, 0.5, seed)\n",
    "    image = tf.image.rgb_to_grayscale(image)\n",
    "    \n",
    "\n",
    "    # Data Segmentation\n",
    "    # Image Thresholding\n",
    "    threshold = 0.5\n",
    "    image = tf.where(image > threshold, 1, 0)\n",
    "\n",
    "\n",
    "    return image, label"
   ],
   "metadata": {
    "id": "r2fNwAvofTXS"
   },
   "execution_count": null,
   "outputs": []
  },
  {
   "cell_type": "code",
   "execution_count": null,
   "outputs": [],
   "source": [
    "X = preprocess_image()"
   ],
   "metadata": {
    "collapsed": false
   }
  },
  {
   "cell_type": "markdown",
   "metadata": {
    "id": "ilcGEAL7wLLg"
   },
   "source": [
    "# Blackbox model: Run the following function defination with no change-\n",
    "\n",
    " In this code, we define a simple CNN model with several convolutional layers followed by max-pooling layers, and then fully connected layers for classification. The final layer uses sigmoid activation since it's a binary classification task.\n",
    "\n",
    "After creating the model, we  train it using** your preprocessed dataset**.\n",
    "run the code with no change make sure your dataframe is called **dataset** not using the correct data frame name will mean the black box function will not work"
   ]
  },
  {
   "cell_type": "code",
   "execution_count": null,
   "metadata": {
    "id": "pj4Qc61gFyir"
   },
   "outputs": [],
   "source": [
    "import tensorflow as tf\n",
    "import random as rd\n",
    "import matplotlib.pyplot as plt\n",
    "from tensorflow.keras import layers, models\n",
    "\n",
    "# Apply preprocessing to the dataset\n",
    "batch_size = 32\n",
    "dataset = dataset.map(preprocess_image)\n",
    "dataset = dataset.batch(batch_size)\n",
    "    \n",
    "def create_model():\n",
    "    model = models.Sequential([\n",
    "        # Convolutional layers\n",
    "        layers.Conv2D(32, (3, 3), activation='relu', input_shape=(224, 224, 1)),\n",
    "        layers.MaxPooling2D((2, 2)),\n",
    "        layers.Conv2D(64, (3, 3), activation='relu'),\n",
    "        layers.MaxPooling2D((2, 2)),\n",
    "        layers.Conv2D(128, (3, 3), activation='relu'),\n",
    "        layers.MaxPooling2D((2, 2)),\n",
    "        layers.Conv2D(128, (3, 3), activation='relu'),\n",
    "        layers.MaxPooling2D((2, 2)),\n",
    "        # Flatten the output and add fully connected layers\n",
    "        layers.Flatten(),\n",
    "        layers.Dense(512, activation='relu'),\n",
    "        layers.Dense(1, activation='sigmoid')  # Binary classification, so use sigmoid activation\n",
    "    ])\n",
    "\n",
    "    # Compile the model\n",
    "    model.compile(optimizer='adam',\n",
    "                  loss='binary_crossentropy',\n",
    "                  metrics=['accuracy'])\n",
    "\n",
    "    return model\n",
    "\n",
    "# Create an instance of the model\n",
    "model = create_model()\n",
    "\n",
    "# Train the model\n",
    "history = model.fit(dataset, epochs=5) # You can specify the number of epochs you want to train for"
   ]
  }
 ],
 "metadata": {
  "colab": {
   "provenance": []
  },
  "kernelspec": {
   "name": "python3",
   "language": "python",
   "display_name": "Python 3 (ipykernel)"
  },
  "language_info": {
   "name": "python"
  }
 },
 "nbformat": 4,
 "nbformat_minor": 0
}
